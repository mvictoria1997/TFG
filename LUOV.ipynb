{
 "cells": [
  {
   "cell_type": "code",
   "execution_count": 2,
   "metadata": {},
   "outputs": [],
   "source": [
    "import hashlib"
   ]
  },
  {
   "cell_type": "code",
   "execution_count": 1,
   "metadata": {},
   "outputs": [],
   "source": [
    "#r,m,v = 7,57,197\n",
    "#r,m,v = 7,83,283\n",
    "#r,m,v = 4,19,65\n",
    "#r, m, v = 7, 10, 30\n",
    "r, m, v =7, 3, 3\n",
    "n = m + v\n",
    "F = GF(2)\n",
    "L.<a> = GF(2^r)"
   ]
  },
  {
   "cell_type": "markdown",
   "metadata": {},
   "source": [
    "Clave privada"
   ]
  },
  {
   "cell_type": "code",
   "execution_count": 3,
   "metadata": {},
   "outputs": [
    {
     "name": "stdout",
     "output_type": "stream",
     "text": [
      "0.012105\n",
      "[[0 1 1 0 0 0]\n",
      "[0 0 0 0 0 1]\n",
      "[0 0 1 0 1 1], [0 1 0 1 1 1]\n",
      "[0 1 0 0 1 1]\n",
      "[0 0 0 0 0 0], [0 1 1 0 1 1]\n",
      "[0 1 0 1 0 0]\n",
      "[0 0 1 1 1 0]]\n",
      "[[0 1 1 0 1 0], [1 1 1 1 0 0], [0 1 0 1 0 1]]\n"
     ]
    }
   ],
   "source": [
    "# Coeficientes de las formas cuadráticas\n",
    "tt = cputime()\n",
    "alpha = []\n",
    "beta = []\n",
    "#gamma = []\n",
    "for kk in range(m):\n",
    "    aux = random_matrix(F,v,n)\n",
    "    for ii in range(v):\n",
    "        for jj in range(ii):\n",
    "            aux[ii,jj] = 0\n",
    "    alpha += [aux]\n",
    "    beta += [random_matrix(F,1,n)]\n",
    "    #gamma += [F.random_element()]\n",
    "print(cputime(tt))\n",
    "print alpha\n",
    "print beta"
   ]
  },
  {
   "cell_type": "code",
   "execution_count": 4,
   "metadata": {},
   "outputs": [
    {
     "name": "stdout",
     "output_type": "stream",
     "text": [
      "0.011404\n",
      "[0 1 0]\n",
      "[1 0 1]\n",
      "[1 1 0]\n"
     ]
    }
   ],
   "source": [
    "# Matriz de distorsión\n",
    "tt = cputime()\n",
    "T = random_matrix(F,v,m)\n",
    "Tright = block_matrix(F,2,[identity_matrix(F,v),T,zero_matrix(F,m,v),identity_matrix(F,m)])\n",
    "Tinverse = block_matrix(F,2,[identity_matrix(F,v),-T,zero_matrix(F,m,v),identity_matrix(F,m)])\n",
    "#Tinverse*Tright == identity_matrix(F,n)\n",
    "print(cputime(tt))\n"
   ]
  },
  {
   "cell_type": "markdown",
   "metadata": {},
   "source": [
    "Clave pública"
   ]
  },
  {
   "cell_type": "code",
   "execution_count": 6,
   "metadata": {},
   "outputs": [
    {
     "name": "stdout",
     "output_type": "stream",
     "text": [
      "1\n",
      "0.002333\n",
      "[[0 1 1 0 1 1]\n",
      "[0 0 0 0 0 1]\n",
      "[0 0 1 1 0 1]\n",
      "[0 0 1 1 0 0]\n",
      "[0 1 0 1 1 0]\n",
      "[0 0 0 0 0 1], [0 1 0 0 1 0]\n",
      "[0 1 0 1 1 0]\n",
      "[0 0 0 0 0 0]\n",
      "[0 1 0 1 1 0]\n",
      "[0 1 0 0 1 0]\n",
      "[0 1 0 1 1 0], [0 1 1 0 0 0]\n",
      "[0 1 0 0 0 1]\n",
      "[0 0 1 0 0 0]\n",
      "[0 1 1 0 0 1]\n",
      "[0 1 0 0 0 0]\n",
      "[0 1 0 0 0 1]]\n",
      "[[0 1 1 0 1 1]\n",
      "[0 0 0 0 0 1]\n",
      "[0 0 1 1 0 1]\n",
      "[0 0 1 1 0 0]\n",
      "[0 1 0 1 1 0]\n",
      "[0 0 0 0 0 1], [0 1 0 0 1 0]\n",
      "[0 1 0 1 1 0]\n",
      "[0 0 0 0 0 0]\n",
      "[0 1 0 1 1 0]\n",
      "[0 1 0 0 1 0]\n",
      "[0 1 0 1 1 0], [0 1 1 0 0 0]\n",
      "[0 1 0 0 0 1]\n",
      "[0 0 1 0 0 0]\n",
      "[0 1 1 0 0 1]\n",
      "[0 1 0 0 0 0]\n",
      "[0 1 0 0 0 1]]\n"
     ]
    }
   ],
   "source": [
    "tt = cputime()\n",
    "Taux = block_matrix(F,2,[identity_matrix(F,v),T.transpose()])\n",
    "#print Taux == Tright[0:v].transpose()\n",
    "alpha_pub = [Taux*ele*Tright for ele in alpha]\n",
    "beta_pub = [ele*Tright for ele in beta]\n",
    "print((beta_pub[0]).nrows())\n",
    "gamma_pub = gamma\n",
    "print(cputime(tt))\n",
    "print alpha_pub\n",
    "print alpha_pub"
   ]
  },
  {
   "cell_type": "markdown",
   "metadata": {},
   "source": [
    "Algoritmo de firma"
   ]
  },
  {
   "cell_type": "code",
   "execution_count": 13,
   "metadata": {
    "collapsed": true
   },
   "outputs": [],
   "source": [
    "mensaje = 'Este mensaje es un mensaje de prueba. Quiero se sea un poco largo para que se aprecie el efecto de la función hash'"
   ]
  },
  {
   "cell_type": "code",
   "execution_count": 14,
   "metadata": {},
   "outputs": [
    {
     "name": "stdout",
     "output_type": "stream",
     "text": [
      "0.203184\n"
     ]
    }
   ],
   "source": [
    "#hashed = Integer('0x'+hashlib.sha256(mensaje).hexdigest()).hex()[0:m]\n",
    "tt = cputime()\n",
    "hashed = hashlib.sha256(mensaje).hexdigest()[0:m]\n",
    "message_L = [L(Integer('0x'+hashed[ii]).bits()) for ii in range(len(hashed))]\n",
    "message_L += [0 for ii in range(m-len(message_L))]\n",
    "r_v = (L^v).random_element()\n",
    "#aux = []\n",
    "#for kk in range(m):\n",
    "#    aux += [(r_v*(alpha[kk].transpose()[v:].transpose()) + vector(beta[kk].transpose()[v:].transpose())).list()]\n",
    "mat_coef = matrix([(r_v*(alpha[kk].transpose()[v:].transpose()) + vector(beta[kk].transpose()[v:].transpose())).list() for kk in range(m)])\n",
    "while mat_coef.is_singular():\n",
    "    r_v = (L^v).random_element()\n",
    "    mat_coef = matrix([(r_v*(alpha[kk].transpose()[v:].transpose()) + vector(beta[kk].transpose()[v:].transpose())).list() for kk in range(m)])\n",
    "r_m = mat_coef.inverse()*(vector(message_L) - matrix([(r_v*(alpha[kk].transpose()[0:v].transpose()) + vector(beta[kk].transpose()[0:v].transpose())).list() for kk in range(m)])*r_v)\n",
    "signature = Tinverse*vector(r_v.list() + r_m.list())\n",
    "print(cputime(tt))"
   ]
  },
  {
   "cell_type": "markdown",
   "metadata": {},
   "source": [
    "Algoritmo de verificación"
   ]
  },
  {
   "cell_type": "code",
   "execution_count": 23,
   "metadata": {},
   "outputs": [
    {
     "name": "stdout",
     "output_type": "stream",
     "text": [
      "(a^4 + a^2)\n",
      "(a^5 + a^4 + a^2 + 1)\n",
      "(a^5)\n",
      "(a^6 + a^5 + a)\n",
      "(a^6 + a^5 + a^4 + a^3 + a^2 + a + 1)\n",
      "(a^6 + a^4 + a^2 + a)\n",
      "(a^6 + a^5 + a^4 + a^3 + a^2 + a + 1)\n",
      "(a^5 + a^3)\n",
      "(a^5 + a^4)\n",
      "(a^5 + 1)\n",
      "True\n",
      "0.185095\n"
     ]
    }
   ],
   "source": [
    "tt = cputime()\n",
    "verify = True\n",
    "for kk in range(m):\n",
    "    print beta_pub[kk]*signature\n",
    "    verify = verify and (signature*alpha_pub[kk]*signature + (beta_pub[kk]*signature)[0] == message_L[kk])\n",
    "print(verify)\n",
    "print(cputime(tt))"
   ]
  },
  {
   "cell_type": "code",
   "execution_count": null,
   "metadata": {
    "collapsed": true
   },
   "outputs": [],
   "source": []
  }
 ],
 "metadata": {
  "kernelspec": {
   "display_name": "SageMath 9.0",
   "language": "sage",
   "name": "sagemath"
  },
  "language_info": {
   "codemirror_mode": {
    "name": "ipython",
    "version": 2
   },
   "file_extension": ".py",
   "mimetype": "text/x-python",
   "name": "python",
   "nbconvert_exporter": "python",
   "pygments_lexer": "ipython2",
   "version": "2.7.17"
  }
 },
 "nbformat": 4,
 "nbformat_minor": 2
}
